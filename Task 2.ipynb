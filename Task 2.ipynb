{
 "cells": [
  {
   "cell_type": "code",
   "execution_count": 15,
   "id": "a9da4681",
   "metadata": {},
   "outputs": [
    {
     "name": "stdout",
     "output_type": "stream",
     "text": [
      "Поисковых запросов, содержащих 1 слов(а): 11.11%\n",
      "Поисковых запросов, содержащих 2 слов(а): 33.33%\n",
      "Поисковых запросов, содержащих 3 слов(а): 44.44%\n",
      "Поисковых запросов, содержащих 4 слов(а): 11.11%\n"
     ]
    }
   ],
   "source": [
    "queries = [\n",
    "'смотреть сериалы онлайн',\n",
    "'новости спорта',\n",
    "'афиша кино',\n",
    "'курс доллара',\n",
    "'сериалы этим летом',\n",
    "'курс по питону',\n",
    "'сериалы про спорт',\n",
    "'нетология',\n",
    "'экзамен по основам программирования'\n",
    "]\n",
    "\n",
    "n = []\n",
    "arr = []\n",
    "for phrase in queries:\n",
    "    a = phrase.count(\" \")\n",
    "    arr.append(a+1)\n",
    "    if a in n:\n",
    "        continue\n",
    "    else:\n",
    "        n.append(a)\n",
    "        \n",
    "n.sort()\n",
    "for number in n:\n",
    "    print(\"Поисковых запросов, содержащих \" + str(number + 1) + \" слов(а): \" + str(round(arr.count(number + 1)/len(queries)*100, 2)) + \"%\")\n",
    "    "
   ]
  }
 ],
 "metadata": {
  "kernelspec": {
   "display_name": "Python 3",
   "language": "python",
   "name": "python3"
  },
  "language_info": {
   "codemirror_mode": {
    "name": "ipython",
    "version": 3
   },
   "file_extension": ".py",
   "mimetype": "text/x-python",
   "name": "python",
   "nbconvert_exporter": "python",
   "pygments_lexer": "ipython3",
   "version": "3.9.0"
  }
 },
 "nbformat": 4,
 "nbformat_minor": 5
}
